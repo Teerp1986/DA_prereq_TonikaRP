{
 "cells": [
  {
   "cell_type": "code",
   "execution_count": 1,
   "id": "e0ae4c41",
   "metadata": {},
   "outputs": [
    {
     "name": "stdout",
     "output_type": "stream",
     "text": [
      "Hello data world!\n"
     ]
    }
   ],
   "source": [
    "print(\"Hello data world!\")"
   ]
  },
  {
   "cell_type": "code",
   "execution_count": 1,
   "id": "38b1092e",
   "metadata": {},
   "outputs": [
    {
     "name": "stdout",
     "output_type": "stream",
     "text": [
      "My name is Tonika Price. My friends and family call me Tee. I was a Executive chef for over 13 years. I left the culinary world to pursue my new career in IT. I have taken 3 courses with Code: You (formally Colde Louisville)  Because of Code:You, I have my dream Job Today. I work for Carahsoft Government IT Solutions and I am a Software Analyst/Developer. I recenly started learning more about DATA management. This Data Analytics couse will allow me to bridge the knowledge gap and excell at work .\n"
     ]
    }
   ],
   "source": [
    "print(\"My name is Tonika Price. My friends and family call me Tee. I was a Executive chef for over 13 years. I left the culinary world to pursue my new career in IT. I have taken 3 courses with Code: You (formally Colde Louisville)  Because of Code:You, I have my dream Job Today. I work for Carahsoft Government IT Solutions and I am a Software Analyst/Developer. I recenly started learning more about DATA management. This Data Analytics couse will allow me to bridge the knowledge gap and excell at work .\")"
   ]
  }
 ],
 "metadata": {
  "kernelspec": {
   "display_name": "Python 3",
   "language": "python",
   "name": "python3"
  },
  "language_info": {
   "codemirror_mode": {
    "name": "ipython",
    "version": 3
   },
   "file_extension": ".py",
   "mimetype": "text/x-python",
   "name": "python",
   "nbconvert_exporter": "python",
   "pygments_lexer": "ipython3",
   "version": "3.9.13"
  }
 },
 "nbformat": 4,
 "nbformat_minor": 5
}
